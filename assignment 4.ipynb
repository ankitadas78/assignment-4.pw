{
 "cells": [
  {
   "cell_type": "markdown",
   "id": "311bdbe3-0d68-4cd5-aa87-3af7cb7b082c",
   "metadata": {},
   "source": [
    "ques 1_ create a python programme to sort the given list of tuples based on integer value using a lambda function."
   ]
  },
  {
   "cell_type": "code",
   "execution_count": 7,
   "id": "a693d45d-4439-410d-ba53-017f8d4427a5",
   "metadata": {},
   "outputs": [],
   "source": [
    "l = [(\"sachin tendulkar\",34357),(\"rickey ponting\",27483),(\"jack kallis\",25534),(\"virat kohli\",24936)]"
   ]
  },
  {
   "cell_type": "code",
   "execution_count": 8,
   "id": "4c94bd1d-b40d-4038-87ac-333a8f7814e1",
   "metadata": {},
   "outputs": [],
   "source": [
    "a = lambda l : l.sort"
   ]
  },
  {
   "cell_type": "code",
   "execution_count": 9,
   "id": "2bdc792d-d91e-4d3a-a46a-0c367c0f576e",
   "metadata": {},
   "outputs": [
    {
     "data": {
      "text/plain": [
       "[('sachin tendulkar', 34357),\n",
       " ('rickey ponting', 27483),\n",
       " ('jack kallis', 25534),\n",
       " ('virat kohli', 24936)]"
      ]
     },
     "execution_count": 9,
     "metadata": {},
     "output_type": "execute_result"
    }
   ],
   "source": [
    "l"
   ]
  },
  {
   "cell_type": "markdown",
   "id": "4b2d5949-d489-45c1-bebe-7b33d12f21ba",
   "metadata": {},
   "source": [
    "ques 2_ write a python programme to find the square of all the numbers in the given list of integers using lambda and map functions"
   ]
  },
  {
   "cell_type": "code",
   "execution_count": 10,
   "id": "41ba4714-cea8-4439-8d7d-749d459e7119",
   "metadata": {},
   "outputs": [],
   "source": [
    "l1 = [1,2,3,4,5,6,7,8,9,10]"
   ]
  },
  {
   "cell_type": "code",
   "execution_count": 11,
   "id": "6f26bc41-22c3-47fb-ae7f-f5efbebb96ca",
   "metadata": {},
   "outputs": [
    {
     "data": {
      "text/plain": [
       "[1, 4, 9, 16, 25, 36, 49, 64, 81, 100]"
      ]
     },
     "execution_count": 11,
     "metadata": {},
     "output_type": "execute_result"
    }
   ],
   "source": [
    "list(map(lambda x : x**2 , l1))"
   ]
  },
  {
   "cell_type": "markdown",
   "id": "694df768-1f24-4329-b7a2-aa29b91624bb",
   "metadata": {},
   "source": [
    "ques 3_write a python programme to convert the given list of integers into a tuple of strings. use map and lambda function"
   ]
  },
  {
   "cell_type": "code",
   "execution_count": 16,
   "id": "1f9096a7-a77f-4446-917f-acdacff2f7fe",
   "metadata": {},
   "outputs": [],
   "source": [
    "s = [1,2,3,4,5,6,7,8,9,10]"
   ]
  },
  {
   "cell_type": "code",
   "execution_count": 28,
   "id": "95e789f4-a09e-497c-b1e1-3ad68e07fd53",
   "metadata": {},
   "outputs": [
    {
     "data": {
      "text/plain": [
       "['1', '2', '3', '4', '5', '6', '7', '8', '9', '10']"
      ]
     },
     "execution_count": 28,
     "metadata": {},
     "output_type": "execute_result"
    }
   ],
   "source": [
    "list(map(lambda x: str(x),s))"
   ]
  },
  {
   "cell_type": "markdown",
   "id": "1b8ef4fa-df24-4183-80cd-2261a2fb1ae2",
   "metadata": {},
   "source": [
    "ques 4_ write a python programme using a reduce function to compute the product of a list containing number from 1 to 25"
   ]
  },
  {
   "cell_type": "code",
   "execution_count": 29,
   "id": "443fa0de-0ad0-4d57-9d65-70b638677a38",
   "metadata": {},
   "outputs": [],
   "source": [
    "from functools import reduce"
   ]
  },
  {
   "cell_type": "code",
   "execution_count": 33,
   "id": "255e4ca3-cedd-49f0-9eea-f30d2c97ddbe",
   "metadata": {},
   "outputs": [],
   "source": [
    "l2 = list(range(1,26))"
   ]
  },
  {
   "cell_type": "code",
   "execution_count": 34,
   "id": "a96da86a-e47e-4c8f-8916-dda23fa6ae80",
   "metadata": {},
   "outputs": [
    {
     "data": {
      "text/plain": [
       "[1,\n",
       " 2,\n",
       " 3,\n",
       " 4,\n",
       " 5,\n",
       " 6,\n",
       " 7,\n",
       " 8,\n",
       " 9,\n",
       " 10,\n",
       " 11,\n",
       " 12,\n",
       " 13,\n",
       " 14,\n",
       " 15,\n",
       " 16,\n",
       " 17,\n",
       " 18,\n",
       " 19,\n",
       " 20,\n",
       " 21,\n",
       " 22,\n",
       " 23,\n",
       " 24,\n",
       " 25]"
      ]
     },
     "execution_count": 34,
     "metadata": {},
     "output_type": "execute_result"
    }
   ],
   "source": [
    "l2"
   ]
  },
  {
   "cell_type": "code",
   "execution_count": 35,
   "id": "3e24deeb-9758-4a08-bc36-db348773b426",
   "metadata": {},
   "outputs": [
    {
     "data": {
      "text/plain": [
       "325"
      ]
     },
     "execution_count": 35,
     "metadata": {},
     "output_type": "execute_result"
    }
   ],
   "source": [
    "reduce(lambda x,y : x+y , l2)"
   ]
  },
  {
   "cell_type": "markdown",
   "id": "06e82164-3bd8-4c3b-8a04-26556c033aac",
   "metadata": {},
   "source": [
    "ques 5_ write a python programme to filter the numbers in a given list that are divisible by 2 and 3 using the filter functions"
   ]
  },
  {
   "cell_type": "code",
   "execution_count": 36,
   "id": "388f1428-fe1b-4471-b4b4-8f6573f71bb0",
   "metadata": {},
   "outputs": [],
   "source": [
    "l3 = [2,3,6,9,27,60,90,120,55,46]"
   ]
  },
  {
   "cell_type": "code",
   "execution_count": 38,
   "id": "e506b935-42e7-4a5a-ad9a-84976ec80f1a",
   "metadata": {},
   "outputs": [
    {
     "data": {
      "text/plain": [
       "[2, 6, 60, 90, 120, 46]"
      ]
     },
     "execution_count": 38,
     "metadata": {},
     "output_type": "execute_result"
    }
   ],
   "source": [
    "list(filter(lambda x: x%2==0,l3))"
   ]
  },
  {
   "cell_type": "code",
   "execution_count": 39,
   "id": "15dd8391-d8e5-4ff9-a299-ac234abe0b65",
   "metadata": {},
   "outputs": [
    {
     "data": {
      "text/plain": [
       "[3, 6, 9, 27, 60, 90, 120]"
      ]
     },
     "execution_count": 39,
     "metadata": {},
     "output_type": "execute_result"
    }
   ],
   "source": [
    "list(filter(lambda x: x%3==0,l3))"
   ]
  },
  {
   "cell_type": "markdown",
   "id": "acf14265-5b29-4189-be02-5963b9d60545",
   "metadata": {},
   "source": [
    "ques 6_ write a python to find palindromes in a given list of strings using lambda and filter function"
   ]
  },
  {
   "cell_type": "code",
   "execution_count": 40,
   "id": "0d077897-f699-4e6e-bf3d-1c508e296087",
   "metadata": {},
   "outputs": [],
   "source": [
    "l4 = [\"python\",\"php\",\"aba\",\"radar\",\"level\"]"
   ]
  },
  {
   "cell_type": "code",
   "execution_count": 48,
   "id": "a3138f64-34cf-4d6d-acdc-798f1701f6fe",
   "metadata": {},
   "outputs": [
    {
     "data": {
      "text/plain": [
       "['php', 'aba', 'radar', 'level']"
      ]
     },
     "execution_count": 48,
     "metadata": {},
     "output_type": "execute_result"
    }
   ],
   "source": [
    "list(filter(lambda x: x == x[::-1] , l4))"
   ]
  },
  {
   "cell_type": "code",
   "execution_count": null,
   "id": "822852b3-6775-4262-830f-129e4adc5a64",
   "metadata": {},
   "outputs": [],
   "source": []
  }
 ],
 "metadata": {
  "kernelspec": {
   "display_name": "Python 3 (ipykernel)",
   "language": "python",
   "name": "python3"
  },
  "language_info": {
   "codemirror_mode": {
    "name": "ipython",
    "version": 3
   },
   "file_extension": ".py",
   "mimetype": "text/x-python",
   "name": "python",
   "nbconvert_exporter": "python",
   "pygments_lexer": "ipython3",
   "version": "3.10.8"
  }
 },
 "nbformat": 4,
 "nbformat_minor": 5
}
